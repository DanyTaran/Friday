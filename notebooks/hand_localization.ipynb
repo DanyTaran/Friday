{
 "cells": [
  {
   "metadata": {
    "ExecuteTime": {
     "end_time": "2025-01-27T17:01:46.164306Z",
     "start_time": "2025-01-27T17:01:46.051744Z"
    }
   },
   "cell_type": "code",
   "source": [
    "import cv2\n",
    "import mediapipe as mp\n",
    "import matplotlib.pyplot as plt\n",
    "import os\n",
    "\n",
    "mp_hands = mp.solutions.hands\n",
    "mp_drawing = mp.solutions.drawing_utils\n",
    "\n",
    "input_image_path = \"data/images/original_0.png\"\n",
    "output_dir = \"data/results/original_0.png\"\n",
    "os.makedirs(output_dir, exist_ok=True)\n",
    "\n",
    "image = cv2.imread(input_image_path)\n",
    "image_rgb = cv2.cvtColor(image, cv2.COLOR_BGR2RGB)\n",
    "\n",
    "with mp_hands.Hands(static_image_mode=True, max_num_hands=1, min_detection_confidence=0.5) as hands:\n",
    "    results = hands.process(image_rgb)\n",
    "\n",
    "    annotated_image = image.copy()\n",
    "    if results.multi_hand_landmarks:\n",
    "        for hand_landmarks in results.multi_hand_landmarks:\n",
    "            mp_drawing.draw_landmarks(\n",
    "                annotated_image, hand_landmarks, mp_hands.HAND_CONNECTIONS)\n",
    "\n",
    "            for id, lm in enumerate(hand_landmarks.landmark):\n",
    "                h, w, c = image.shape\n",
    "                cx, cy = int(lm.x * w), int(lm.y * h)\n",
    "                print(f\"Landmark {id}: ({cx}, {cy})\")\n",
    "\n",
    "    annotated_path = os.path.join(output_dir, \"annotated_image.png\")\n",
    "    cv2.imwrite(annotated_path, annotated_image)\n",
    "    print(f\"Annotated image saved to: {annotated_path}\")\n",
    "\n",
    "    if results.multi_hand_landmarks:\n",
    "        landmarks = []\n",
    "        for hand_landmarks in results.multi_hand_landmarks:\n",
    "            landmarks.append([(lm.x, lm.y, lm.z) for lm in hand_landmarks.landmark])\n",
    "\n",
    "        import json\n",
    "        landmarks_path = os.path.join(output_dir, \"hand_landmarks.json\")\n",
    "        with open(landmarks_path, 'w') as f:\n",
    "            json.dump(landmarks, f, indent=4)\n",
    "        print(f\"Hand landmarks saved to: {landmarks_path}\")\n",
    "\n",
    "plt.figure(figsize=(10, 10))\n",
    "plt.imshow(cv2.cvtColor(annotated_image, cv2.COLOR_BGR2RGB))\n",
    "plt.axis('off')\n",
    "plt.show()"
   ],
   "id": "7d552568d529e11e",
   "outputs": [
    {
     "ename": "ModuleNotFoundError",
     "evalue": "No module named 'cv2'",
     "output_type": "error",
     "traceback": [
      "\u001B[0;31m---------------------------------------------------------------------------\u001B[0m",
      "\u001B[0;31mModuleNotFoundError\u001B[0m                       Traceback (most recent call last)",
      "Cell \u001B[0;32mIn[6], line 1\u001B[0m\n\u001B[0;32m----> 1\u001B[0m \u001B[38;5;28;01mimport\u001B[39;00m\u001B[38;5;250m \u001B[39m\u001B[38;5;21;01mcv2\u001B[39;00m\n\u001B[1;32m      2\u001B[0m \u001B[38;5;28;01mimport\u001B[39;00m\u001B[38;5;250m \u001B[39m\u001B[38;5;21;01mmediapipe\u001B[39;00m\u001B[38;5;250m \u001B[39m\u001B[38;5;28;01mas\u001B[39;00m\u001B[38;5;250m \u001B[39m\u001B[38;5;21;01mmp\u001B[39;00m\n\u001B[1;32m      3\u001B[0m \u001B[38;5;28;01mimport\u001B[39;00m\u001B[38;5;250m \u001B[39m\u001B[38;5;21;01mnumpy\u001B[39;00m\u001B[38;5;250m \u001B[39m\u001B[38;5;28;01mas\u001B[39;00m\u001B[38;5;250m \u001B[39m\u001B[38;5;21;01mnp\u001B[39;00m\n",
      "\u001B[0;31mModuleNotFoundError\u001B[0m: No module named 'cv2'"
     ]
    }
   ],
   "execution_count": 6
  }
 ],
 "metadata": {
  "kernelspec": {
   "name": "python3",
   "language": "python",
   "display_name": "Python 3 (ipykernel)"
  }
 },
 "nbformat": 5,
 "nbformat_minor": 9
}
